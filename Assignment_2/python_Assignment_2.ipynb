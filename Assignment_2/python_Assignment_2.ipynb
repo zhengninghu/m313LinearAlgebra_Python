{
  "nbformat": 4,
  "nbformat_minor": 0,
  "metadata": {
    "colab": {
      "provenance": []
    },
    "kernelspec": {
      "name": "python3",
      "display_name": "Python 3"
    },
    "language_info": {
      "name": "python"
    }
  },
  "cells": [
    {
      "cell_type": "code",
      "execution_count": null,
      "metadata": {
        "id": "3JsT4C8nVsLz"
      },
      "outputs": [],
      "source": [
        "import numpy as np\n",
        "import sympy as sp\n",
        "import scipy.linalg as la\n",
        "import numpy.linalg as nla\n",
        "import matplotlib.pyplot as plt\n",
        "import PIL.Image as Image"
      ]
    },
    {
      "cell_type": "markdown",
      "source": [
        "# Matrix multiplications\n",
        "\n",
        "Let $A$ and $B$ be two matrices with sizes $n \\times m$ and $m \\times l$ respectively, then we can define the matrix multiplication $AB$. By viewing $A$ and $B$ as linear transformations, their product $AB$ is the matrix representation of the composition:\n",
        "\n",
        "$$T_A \\circ T_B \\colon \\mathbb{R}^l \\xrightarrow{T_B} \\mathbb{R}^m \\xrightarrow{T_A} \\mathbb{R}^n$$\n",
        "\n",
        "where $T_A$ and $T_B$ are linear transformations with standard matrices $A$ and $B$ respectively.\n",
        "\n",
        "In particular, consider a square matrix $A$ with size $n \\times n$, we can also define\n",
        "$$ A^k = \\underbrace{A \\cdot A \\cdots A}_{\\text{$k$ times}}$$\n",
        "which on the other hand, can be viewed as composing the linear transformation with $A$ as its standard matrix, $k$ times."
      ],
      "metadata": {
        "id": "JqFRchxMXiu6"
      }
    },
    {
      "cell_type": "markdown",
      "source": [
        "## Example 1\n",
        "\n",
        "In this example, we will introduce a special and useful type of matrices, called **Toeplitz matrix**. Generally speaking, any matrix which has constant diagonals (all diagonals, not only the main diagonal) is called a Toeplitz matrix. For example,\n",
        "\n",
        "$$\\begin{bmatrix}\n",
        "a & b & c & d \\\\\n",
        "e & a & b & c \\\\\n",
        "f & e & a & b \\\\\n",
        "g & f & e & a\n",
        "\\end{bmatrix}$$\n",
        "\n",
        "A Toeplitz matrix can be used as a blurring operator to blur a image. Mathematically, we can store a $16 \\times 16$ image in a $16 \\times 16$ matrix. Let $A$ be a $16 \\times 16$ Toeplitz matrix, we consider this blurring process as a system of equations:\n",
        "$$AX = B + \\delta$$\n",
        "where\n",
        "\n",
        "\n",
        "*   $A$ is what we call a blurring operator, represented by a Toeplitz matrix;\n",
        "*   $X$ is the input image (before blurring);\n",
        "*   $B$ is the blurred image (after blurring);\n",
        "*   $\\delta$ is an additive Gaussian noise.\n",
        "\n"
      ],
      "metadata": {
        "id": "AX_Pj3SabmLi"
      }
    },
    {
      "cell_type": "code",
      "source": [
        "# generate a Toeplitz matrix\n",
        "# the first argument indicates the first column\n",
        "# the second argument indicates the first row (the first entry of the row is ignored)\n",
        "A = la.toeplitz([1, 2, 3, 4], [1, 4, 5, 6])\n",
        "display(sp.Matrix(A))\n",
        "print('')\n",
        "\n",
        "# lower triangular Toeplitz\n",
        "B = la.toeplitz([1, 2, 3, 4], [0, 0, 0, 0])\n",
        "display(sp.Matrix(B))\n",
        "print('')\n",
        "\n",
        "# upper triangular Toeplitz\n",
        "C = la.toeplitz([1, 0, 0, 0], [1, 2, 3, 4])\n",
        "display(sp.Matrix(C))\n",
        "print('')\n",
        "\n",
        "# symmetric (if only one argument is specified, the first row and the first column are the same)\n",
        "D = la.toeplitz([1, 2, 3, 4])\n",
        "display(sp.Matrix(D))\n",
        "print('')"
      ],
      "metadata": {
        "id": "_TaHaVDebpQG"
      },
      "execution_count": null,
      "outputs": []
    },
    {
      "cell_type": "markdown",
      "source": [
        "Let us first represent an image using a matrix $X$. Let $A$ and $B$ be two Toeplitz matrices. Then the left multiplication $AX$ gives a vertical blurring (column-wisely), while the right multiplication $XB$ produces a horizontal blurring (row-wisely)."
      ],
      "metadata": {
        "id": "0ntzIembgtX6"
      }
    },
    {
      "cell_type": "code",
      "source": [
        "! git clone https://github.com/zhengninghu/m313LinearAlgebra_Python.git\n",
        "\n",
        "import os\n",
        "image_file = os.path.join('m313LinearAlgebra_Python', 'Assignment_2', 'otter.jpg')"
      ],
      "metadata": {
        "id": "GWvxHq8RBNp-"
      },
      "execution_count": null,
      "outputs": []
    },
    {
      "cell_type": "code",
      "source": [
        "otter = Image.open(image_file).convert('L')\n",
        "otter = np.array(otter)\n",
        "plt.imshow(otter, cmap='gray')\n",
        "plt.show()\n",
        "# shape of the image\n",
        "h, w = otter.shape\n",
        "\n",
        "# generate a vertical blurring matrix\n",
        "# a Toeplitz matrix where the values decrease from the main diagonal\n",
        "row = np.zeros(h)\n",
        "col = np.zeros(w)\n",
        "step = 25\n",
        "col[:step] = np.linspace(1, 0, step, endpoint=False)\n",
        "row[0] = 1 # not necessary though\n",
        "V = la.toeplitz(col, row)\n",
        "blurred_otter = V @ otter  # apply blurring\n",
        "plt.imshow(blurred_otter, cmap='gray')\n",
        "plt.show()"
      ],
      "metadata": {
        "collapsed": true,
        "id": "Go5kqKwE5OLs"
      },
      "execution_count": null,
      "outputs": []
    },
    {
      "cell_type": "markdown",
      "source": [
        "## Problem 1 -- Blurring images\n",
        "\n",
        "Define another Toeplitz matrix $H$ representing the horizontal blurring. Do the followings:\n",
        "\n",
        "\n",
        "*   Blur the image otter horizontally and show image after blurring, and\n",
        "*   Do both vertical and horizontal blurring simultaneously, and show image.\n"
      ],
      "metadata": {
        "id": "PYxtwy2_bng-"
      }
    },
    {
      "cell_type": "code",
      "source": [
        "row = np.zeros(h)\n",
        "col = np.zeros(w)\n",
        "step = 25\n",
        "row[:step] = np.linspace(1, 0, step, endpoint=False)\n",
        "col[0] = 1\n",
        "\n",
        "### Solution ###\n",
        "# blur horizontally and show image\n",
        "\n",
        "\n",
        "### Solution ###\n",
        "#################################\n",
        "### Solution ###\n",
        "# blur vertically AND horizontally and show image\n",
        "\n",
        "\n",
        "### Solution ###"
      ],
      "metadata": {
        "id": "M5-0zQpraQJk"
      },
      "execution_count": null,
      "outputs": []
    },
    {
      "cell_type": "markdown",
      "source": [
        "## Example 2\n",
        "\n",
        "We start with a square matrix $A$ mentioned in class, and take powers $A^n$ for any positive integer $n$.\n",
        "\n",
        "$$A = \\begin{bmatrix}\n",
        "0 & 1 & 0 & 0 & 0 & 0 & 0 & 0 & 0 & 0 \\\\\n",
        "0 & 0 & 1 & 0 & 0 & 0 & 0 & 0 & 0 & 0 \\\\\n",
        "0 & 0 & 0 & 1 & 0 & 0 & 0 & 0 & 0 & 0 \\\\\n",
        "0 & 0 & 0 & 0 & 1 & 0 & 0 & 0 & 0 & 0 \\\\\n",
        "0 & 0 & 0 & 0 & 0 & 1 & 0 & 0 & 0 & 0 \\\\\n",
        "0 & 0 & 0 & 0 & 0 & 0 & 1 & 0 & 0 & 0 \\\\\n",
        "0 & 0 & 0 & 0 & 0 & 0 & 0 & 1 & 0 & 0 \\\\\n",
        "0 & 0 & 0 & 0 & 0 & 0 & 0 & 0 & 1 & 0 \\\\\n",
        "0 & 0 & 0 & 0 & 0 & 0 & 0 & 0 & 0 & 1 \\\\\n",
        "0 & 0 & 0 & 0 & 0 & 0 & 0 & 0 & 0 & 0 \\\\\n",
        "\\end{bmatrix}$$\n",
        "\n",
        "One can easily see how the diagonal $1$'s are shifted towards the upper right corner. And the power $A^n$ stabilizes to the zero matrix when the exponent $n$ is greater or equal to $10$."
      ],
      "metadata": {
        "id": "SwpHivpajqrG"
      }
    },
    {
      "cell_type": "code",
      "source": [
        "# generate such matrix A\n",
        "A1 = np.zeros((10, 10), dtype=int)\n",
        "for i in range(1, 10):\n",
        "  A1[i - 1, i] = 1\n",
        "display(sp.Matrix(A1))\n",
        "print('')\n",
        "\n",
        "# A is actually of Toeplitz-type (see Example 1)\n",
        "# so A can also be constructed in the following way\n",
        "row = np.zeros(10, dtype=int)\n",
        "row[1] = 1\n",
        "col = np.zeros(10, dtype=int)\n",
        "A2 = la.toeplitz(col, row)\n",
        "display(sp.Matrix(A2))"
      ],
      "metadata": {
        "id": "aHMi43wxjy15"
      },
      "execution_count": null,
      "outputs": []
    },
    {
      "cell_type": "code",
      "source": [
        "# let us compute A^n\n",
        "for n in range(1, 11):\n",
        "    print(f'n = {n}')\n",
        "    display(sp.Matrix(nla.matrix_power(A1, n)))"
      ],
      "metadata": {
        "id": "2UzvED_Tmy6n"
      },
      "execution_count": null,
      "outputs": []
    },
    {
      "cell_type": "markdown",
      "source": [
        "## Problem 2 -- Permutation matrices\n",
        "\n",
        "An $n \\times n$ permutation matrix is a square matrix obtained from the $n \\times n$ identity matrix $I_n$ by a permutation of rows. Thus a permutation matrix is always row equivalent to the identity matrix (and hence invertible). In other words, every row and column of a permutation matrix contain exactly one nonzero entry which is $1$. For example, the following is a $4 \\times 4$ permutation matrix:\n",
        "\n",
        "$$P = \\begin{bmatrix}\n",
        "0 & 1 & 0 & 0 \\\\\n",
        "0 & 0 & 0 & 1 \\\\\n",
        "1 & 0 & 0 & 0 \\\\\n",
        "0 & 0 & 1 & 0\n",
        "\\end{bmatrix}$$\n",
        "\n",
        "If we apply the permutation matrix by left multiplication to the vector $\\textbf{v} = (1,2,3,4)$, this will tell you how a set of $4$ elements gets permuted by this permutation matrix $P$.\n",
        "\n",
        "$$P\\textbf{v} = \\begin{bmatrix}\n",
        "0 & 1 & 0 & 0 \\\\\n",
        "0 & 0 & 0 & 1 \\\\\n",
        "1 & 0 & 0 & 0 \\\\\n",
        "0 & 0 & 1 & 0\n",
        "\\end{bmatrix}\\begin{bmatrix}\n",
        "1 \\\\ 2 \\\\ 3 \\\\ 4\n",
        "\\end{bmatrix} = \\begin{bmatrix}\n",
        "2 \\\\ 4 \\\\ 1 \\\\ 3\n",
        "\\end{bmatrix}$$\n",
        "\n",
        "It means that row 1 is moved to row 3, row 3 is moved to row 4, row 4 is moved to row 2 and row 2 is moved to row 1."
      ],
      "metadata": {
        "id": "5h3mvYS4sxkT"
      }
    },
    {
      "cell_type": "code",
      "source": [
        "# generate the permutation matrix P\n",
        "I = np.eye(4, dtype=int)\n",
        "\n",
        "# or permuting rows of I\n",
        "P = I[[1, 3, 0, 2]]\n",
        "# generate P by permuting columns of I\n",
        "P1 = I[:, [2, 0, 3, 1]]\n",
        "\n",
        "display(sp.Matrix(P))\n",
        "print('')\n",
        "display(sp.Matrix(P1))"
      ],
      "metadata": {
        "id": "vjq0xVSvuTJI"
      },
      "execution_count": null,
      "outputs": []
    },
    {
      "cell_type": "markdown",
      "source": [
        "For any $n \\times n$ permutation marix $P$, there always exists a positive integer $k$ such that $P^k = I_n$. The **smallest** positive integer satisfying this property is called the *order* of $P$, and the order of $P$ is always less or equal to $e^{n/e}$.\n",
        "\n"
      ],
      "metadata": {
        "id": "O5oTzvTSyovy"
      }
    },
    {
      "cell_type": "markdown",
      "source": [
        "### Problem 2 Part 1\n",
        "\n",
        "Write a function that automatically determines the order of a given permutation matrix."
      ],
      "metadata": {
        "id": "DoQDHWghz6yb"
      }
    },
    {
      "cell_type": "code",
      "source": [
        "def orderPermutation(P):\n",
        "    \"\"\"Function to return the order of an input permutation matrix\"\"\"\n",
        "    ### Solution ###\n",
        "\n",
        "\n",
        "    ### Solution ###"
      ],
      "metadata": {
        "id": "N-O37uPdyoPi"
      },
      "execution_count": null,
      "outputs": []
    },
    {
      "cell_type": "markdown",
      "source": [
        "### Problem 2 Part 2\n",
        "\n",
        "Start with the following $10 \\times 10$ permutation matrix $Q$, use the function `orderPermutation` from above Part 1 to get the order of $Q$."
      ],
      "metadata": {
        "id": "kY1sKiz1z9PY"
      }
    },
    {
      "cell_type": "code",
      "source": [
        "# generate a permutation matrix Q\n",
        "I = np.eye(10, dtype=int)\n",
        "Q = I[[9, 4, 5, 7, 6, 2, 0, 8, 3, 1]]\n",
        "\n",
        "# what is the order of Q?\n",
        "### Solution ###\n",
        "\n",
        "\n",
        "### Solution ###"
      ],
      "metadata": {
        "id": "9v3BSzGc26zK"
      },
      "execution_count": null,
      "outputs": []
    },
    {
      "cell_type": "markdown",
      "source": [
        "# Elementary matrices and LU Decomposition\n",
        "\n",
        "Elementary matrices are square matrices which are obtained by applying a single elementary row operation to the identity matrix. One advantage of introducing elementary matrices is that since every invertible $n \\times n$ matrix $A$ has RREF the identity matrix $I_n$, i.e.,\n",
        "\n",
        "$$E_k\\cdots E_2E_1 A = I_n$$\n",
        "\n",
        "the inverse matrix of $A$, denoted by $A^{-1}$ can be computed by applying to $I_n$ the same sequence of row operations which convert $A$ to $I_n$. Namely,\n",
        "\n",
        "$$A^{-1} = E_k\\cdots E_2E_1 I_n.$$\n",
        "\n",
        "The process of Gaussian elimination gives rise to the LU Decomposition, which says that for any square matrix $A$ it can be written as\n",
        "\n",
        "$$A = PLU$$\n",
        "\n",
        "where $P$ is a permutation matrix (defined in Problem 2), $L$ is a lower triangular matrix, and $U$ is a upper triangular matrix. In particular, if the matrix $A$ can be row reduced to an echelon form by only applying **two** types of elementary row operations \"rescaling a row\" and \"replace a row by the sum of itself and a multiple of another row\", then $A$ can be decomposed as\n",
        "\n",
        "$$A = LU$$\n",
        "\n",
        "where again, $L$ is some lower triangular matrix and $U$ is a upper triangular matrix."
      ],
      "metadata": {
        "id": "lKX42UDbXzXD"
      }
    },
    {
      "cell_type": "markdown",
      "source": [
        "## Example 3\n",
        "\n",
        "Let's consider a matrix\n",
        "\n",
        "$$A = \\begin{bmatrix}\n",
        "1 & -2 & 1 \\\\\n",
        "2 & 3 & 2 \\\\\n",
        "1 & -2 & -4\n",
        "\\end{bmatrix}$$\n",
        "\n",
        "and do LU decomposition to $A$."
      ],
      "metadata": {
        "id": "bliXtpege1Pq"
      }
    },
    {
      "cell_type": "code",
      "source": [
        "A = np.array([[1, -2, 1], [2, 3, 2], [1, -2, -4]])\n",
        "P, L, U = la.lu(A)\n",
        "display(sp.Matrix(P))\n",
        "display(sp.Matrix(L))\n",
        "display(sp.Matrix(U))"
      ],
      "metadata": {
        "id": "w7lWyW3Fe3xe"
      },
      "execution_count": null,
      "outputs": []
    },
    {
      "cell_type": "markdown",
      "source": [
        "## Problem 3\n",
        "\n",
        "Why LU Decomposition? One reason is that when considering a linear system $A\\textbf{x} = \\textbf{b}$, it is much easier to solve when $A$ is a triangular matrix. In this case, instead of using **nla.solve** we can use **la.solve_triangular** to speed up the computation.\n",
        "\n",
        "Let us start with a Toeplitz matrix $A$ and a vector $\\textbf{b}$. The goal is to solve $A\\textbf{x} = \\textbf{b}$ using LU Decomposition.\n",
        "\n",
        "\n",
        "*   Decompose $A = PLU$;\n",
        "*   Solve the linear systems $P\\textbf{z} = \\textbf{b}$ using `la.solve`, and solve $L\\textbf{y} = \\textbf{z}$ and $U\\textbf{x} = \\textbf{y}$ using `la.solve_triangular`.\n",
        "\n"
      ],
      "metadata": {
        "id": "LDiPDMOQe4UN"
      }
    },
    {
      "cell_type": "code",
      "source": [
        "# generate A and b\n",
        "row = np.array([-4, 2, 0, 0, 0, 0, 0, 0, 0, -6])\n",
        "A = la.toeplitz(row)\n",
        "display(sp.Matrix(A))\n",
        "print('')\n",
        "b = np.ones(10)\n",
        "# Do LU Decomposition of A\n",
        "P, L, U = la.lu(A)\n",
        "\n",
        "# solve Pz = b\n",
        "z = la.solve(P, b)\n",
        "\n",
        "### Solution ###\n",
        "# solve Ly = z\n",
        "\n",
        "\n",
        "# solve Ux = y\n",
        "\n",
        "\n",
        "### Solution ###\n",
        "display(sp.Matrix(x))"
      ],
      "metadata": {
        "id": "xWMNlzbJe6wC"
      },
      "execution_count": null,
      "outputs": []
    },
    {
      "cell_type": "markdown",
      "source": [
        "# Inverse matrix\n",
        "\n",
        "Invertible matrices are only defined for square matrices. Let $A$ be a square matrix of size $n \\times n$. Then $A$ is invertible if and only if $A$ can be row reduced to the identity matrix $I_n$. An immediate consequence of this characterization is that, if $A$ is invertible, for any vector $\\textbf{b} \\in \\mathbb{R}^n$, the linear system\n",
        "$$A\\textbf{x} = \\textbf{b}$$\n",
        "is consistent, with the unique solution $\\textbf{x} = A^{-1}\\text{b}$."
      ],
      "metadata": {
        "id": "MKy-FecLYHoV"
      }
    },
    {
      "cell_type": "markdown",
      "source": [
        "## Problem 4\n",
        "\n",
        "`nla.inv` can be used directly to find the inverse of an invertible matrix. Moreover, if the input matrix is not a square matrix or not invertible, an error will be raised.\n",
        "\n",
        "Use the function of checking linear independence from **Python Assignment 1** (recalled below) to write a function with input a matrix $A$ , return its inverse $A^{-1}$ if $A$ is invertible, \"Not invertible\" if $A$ is not invertible."
      ],
      "metadata": {
        "id": "grxu6fUHe7i4"
      }
    },
    {
      "cell_type": "code",
      "source": [
        "# from Python Assignment 1\n",
        "def independent(A):\n",
        "    A = sp.Matrix(A)\n",
        "    n = A.shape[1]\n",
        "    _, pivots = A.rref()\n",
        "    return len(pivots) == n\n",
        "\n",
        "def inverse(A):\n",
        "    \"\"\"function returns the inverse matrix if A is invertible\"\"\"\n",
        "    \"\"\"return Not invertible otherwise\"\"\"\n",
        "    \"\"\"You need to use the function independent defined above\"\"\"\n",
        "    ### Solution ###\n",
        "\n",
        "\n",
        "    ### Solution ###"
      ],
      "metadata": {
        "id": "pW75iV_xdmgF"
      },
      "execution_count": null,
      "outputs": []
    },
    {
      "cell_type": "code",
      "source": [
        "# test your function within the following example\n",
        "Test = np.array([[1, -2, 1], [2, 3, 2], [1, -2, -4]])\n",
        "inverse(Test)"
      ],
      "metadata": {
        "id": "i7TKbxz874Xs"
      },
      "execution_count": null,
      "outputs": []
    },
    {
      "cell_type": "markdown",
      "source": [
        "## Problem 5 -- Deblurring images\n",
        "\n",
        "Continue from Problem 1. Start with a blurred image stored in the matrix `otter_blurred` and to blur such image by taking inverses of the Toeplitz matrices $V$ and $H$. Precisely, implement $V^{-1} (\\text{otter_blurred}) H^{-1}$ to recover the image `otter`.\n"
      ],
      "metadata": {
        "id": "R_5yMGHKe_Gm"
      }
    },
    {
      "cell_type": "code",
      "source": [
        "# blurred image from Problem 1\n",
        "rng = np.random.default_rng(0)\n",
        "# V and H are taken from Problem 1\n",
        "otter_blurred = V @ otter @ H + 5 * rng.normal(size=(h, w))\n",
        "plt.imshow(otter_blurred, cmap='gray')\n",
        "plt.show()\n",
        "\n",
        "# deblur the image\n",
        "### Solution ###\n",
        "\n",
        "\n",
        "### Solution ###"
      ],
      "metadata": {
        "id": "XP97jhnEfBp_"
      },
      "execution_count": null,
      "outputs": []
    }
  ]
}