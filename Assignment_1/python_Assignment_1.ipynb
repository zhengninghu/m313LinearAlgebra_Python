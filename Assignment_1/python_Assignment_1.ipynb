{
  "nbformat": 4,
  "nbformat_minor": 0,
  "metadata": {
    "colab": {
      "provenance": []
    },
    "kernelspec": {
      "name": "python3",
      "display_name": "Python 3"
    },
    "language_info": {
      "name": "python"
    }
  },
  "cells": [
    {
      "cell_type": "markdown",
      "source": [
        "# **Python Assignment 1**\n",
        "Math 313 Section 007 - Spring 2025\n",
        "\n",
        "---\n",
        "The main objects studied in Linear Algebra are vectors and matrices.\n",
        "\n",
        "\n",
        "1.   Vectors are often referred to column vectors, written as\n",
        "\n",
        "$$v = \\begin{bmatrix}\n",
        "v_1 \\\\ v_2 \\\\ \\vdots \\\\ v_n\n",
        "\\end{bmatrix}$$\n",
        "\n",
        "which can be viewed as a $1$ dimensional array;\n",
        "\n",
        "2.   Matrices with $m$ rows, and $n$ columns, or in other words, matrices with size $m \\times n$, expressed as\n",
        "\n",
        "$$A = \\begin{bmatrix}\n",
        "a_{11} & a_{12} & \\cdots & a_{1n} \\\\\n",
        "a_{21} & a_{22} & \\cdots & a_{2n} \\\\\n",
        "\\vdots & \\vdots & \\ddots & \\vdots \\\\\n",
        "a_{m1} & a_{m2} & \\cdots & a_{mn}\n",
        "\\end{bmatrix}$$\n",
        "\n",
        "which can be viewed as a $2$ dimensional array.\n"
      ],
      "metadata": {
        "id": "nXoIcUWu1uqr"
      }
    },
    {
      "cell_type": "markdown",
      "source": [
        "\n",
        "## **Introductory Example**\n",
        "Create vectors and matrices using Python and Numpy.\n",
        "\n",
        "*   Lists are mutable sequence of objects, enclosed with [ and ];\n",
        "*   np.array() can be used to convert a one dimensional list of data to an array.\n",
        "*   Using nested brackets one can construct a two dimensional list (i.e., a list of lists), and again, np.array() will convert such list to a NumPy array.\n",
        "\n",
        "\n",
        "Once the data is converted into array, we can\n",
        "\n",
        "*   Access the components using indexing;\n",
        "*   Split or slice the array;\n",
        "*   Reshape the array;\n",
        "*   Do algebra among arrays,\n",
        "*   and so on.\n",
        "\n",
        "\n",
        "\n",
        "\n",
        "\n"
      ],
      "metadata": {
        "id": "aPskr8hkBXFF"
      }
    },
    {
      "cell_type": "code",
      "execution_count": null,
      "metadata": {
        "id": "u1nh-lj91iRq"
      },
      "outputs": [],
      "source": [
        "# import numpy library\n",
        "import numpy as np"
      ]
    },
    {
      "cell_type": "code",
      "source": [
        "# create a 1d list of numbers\n",
        "L1 = [1, 2, 3, 4, 5, 6, 7];\n",
        "print(L1)\n",
        "\n",
        "# or use range() and convert to a list\n",
        "L2 = list(range(1, 8));\n",
        "print(L2)\n",
        "\n",
        "# or use np.arange which be used for specified increment\n",
        "L3 = np.arange(8);\n",
        "print(L3)\n",
        "L4 = np.arange(1, 8, 2);\n",
        "print(L4)\n",
        "\n",
        "# convert to an array\n",
        "data = np.array(L1);\n",
        "print(data)\n",
        "\n",
        "# convert an array to list\n",
        "print(data.tolist())"
      ],
      "metadata": {
        "id": "X-xzpkXXBN59",
        "collapsed": true
      },
      "execution_count": null,
      "outputs": []
    },
    {
      "cell_type": "code",
      "source": [
        "# print the i-th element from the array using data[i - 1]\n",
        "# where i-1 is the 0-offset index\n",
        "print(data[5]) # print the 6th element\n",
        "\n",
        "# negative indexing is allowed\n",
        "print(data[-2]) # the 2nd last element (6-th)\n",
        "\n",
        "# slicing\n",
        "print(data[1:4]) # index 1 - 3, not including 4\n",
        "print(data[:]) # all entries\n",
        "print(data[-3:]) # last three"
      ],
      "metadata": {
        "id": "kCnG1BGRCwWq"
      },
      "execution_count": null,
      "outputs": []
    },
    {
      "cell_type": "code",
      "source": [
        "# create a 2d list of numbers\n",
        "M1 = [[1, 2, 3],\n",
        "      [2, 3, 4],\n",
        "      [3, 4, 5],\n",
        "      [4, 5, 6]];\n",
        "print(M1)\n",
        "\n",
        "# or\n",
        "M2 = [];\n",
        "for i in range(1, 5):\n",
        "    M2.append(list(range(i, i + 3)))\n",
        "M2 = np.array(M2);\n",
        "print(M2)\n",
        "\n",
        "# shape of array\n",
        "print(M2.shape)\n",
        "# more specifically\n",
        "print(M2.shape[0]) # number of rows\n",
        "print(M2.shape[1]) # number of columns\n",
        "print(M2.size) # number of entries"
      ],
      "metadata": {
        "id": "FPMp1U3r0raR"
      },
      "execution_count": null,
      "outputs": []
    },
    {
      "cell_type": "code",
      "source": [
        "# 2d indexing -- use comma to separate the index for each dimension\n",
        "print(M2[1, 2]) # the (2,3)-entry\n",
        "print(M2[1])  # the 2nd row\n",
        "print(M2[:, -1])  # the last column\n",
        "\n",
        "# slicing\n",
        "X = M2[-2:, :2];\n",
        "print(X) # last 2 rows and first 2 columns\n",
        "\n",
        "# what do A and b represent?\n",
        "A = M2[:, :-1];\n",
        "b = M2[:, [-1]];  # 2-d array with a single column\n",
        "print(A)\n",
        "print(b)"
      ],
      "metadata": {
        "id": "J8fUP6jQC5qp"
      },
      "execution_count": null,
      "outputs": []
    },
    {
      "cell_type": "markdown",
      "source": [
        "### **Transpose a matrix**\n",
        "\n",
        "Given an $m \\times n$ matrix\n",
        "\n",
        "$$A = \\begin{bmatrix}\n",
        "a_{11} & a_{12} & \\cdots & a_{1n} \\\\\n",
        "a_{21} & a_{22} & \\cdots & a_{2n} \\\\\n",
        "\\vdots & \\vdots & \\ddots & \\vdots \\\\\n",
        "a_{m1} & a_{m2} & \\cdots & a_{mn}\n",
        "\\end{bmatrix}$$\n",
        "\n",
        "its transpose, denoted by $A^T$, is an $n \\times m$ matrix given by\n",
        "\n",
        "$$A^T = \\begin{bmatrix}\n",
        "a_{11} & a_{21} & \\cdots & a_{m1} \\\\\n",
        "a_{12} & a_{22} & \\cdots & a_{m2} \\\\\n",
        "\\vdots & \\vdots & \\ddots & \\vdots \\\\\n",
        "a_{1n} & a_{2n} & \\cdots & a_{mn}\n",
        "\\end{bmatrix}$$"
      ],
      "metadata": {
        "id": "bQlqWzVX6IN2"
      }
    },
    {
      "cell_type": "code",
      "source": [
        "# transpose of a 2d array\n",
        "M2 = np.array([range(i, i + 3) for i in range(1, 5)]) # creat an array using list comprehension syntax\n",
        "print(M2)\n",
        "print(M2.T) # transpose\n",
        "\n",
        "# flatten from 2d to 1d\n",
        "M2 = M2.ravel()\n",
        "print(M2)\n",
        "\n",
        "# reshape from 1d to 2d\n",
        "M2 = M2.reshape((2, 6))\n",
        "print(M2) # reshape to a (2, 6)-array"
      ],
      "metadata": {
        "id": "UiZJTAbC63Nf"
      },
      "execution_count": null,
      "outputs": []
    },
    {
      "cell_type": "markdown",
      "source": [
        "## **Vectors and Matrices Arithmetics**\n",
        "\n",
        "For now, we mainly consider the following operators between vectors:\n",
        "\n",
        "*   Vectors addition (and subtraction);\n",
        "*   Scalar multiplication;\n",
        "*   Componentwise multiplication, inner product.\n",
        "\n",
        "We consider the following operations between matrices:\n",
        "\n",
        "*   Matrices addition (and subtraction);\n",
        "*   Scalar multiplication;\n",
        "*   Matrix multiplied by a vector;\n",
        "*   Matrix multiplied by a matrix;\n",
        "*   Transpose (mentioned above);\n",
        "*   Inverse."
      ],
      "metadata": {
        "id": "QoLJklTNRFb5"
      }
    },
    {
      "cell_type": "code",
      "source": [
        "# define two vectors with equal length\n",
        "v = np.array([1, 2, 3, 4, 5]);\n",
        "print(v)\n",
        "w = np.array([3, 4, 5, 6, 7]);\n",
        "print(w)\n",
        "\n",
        "# define a scalar\n",
        "c = -3;\n",
        "\n",
        "# add vectors\n",
        "u1 = v + w;\n",
        "print(u1)\n",
        "\n",
        "# subtract vectors\n",
        "u2 = v - w;\n",
        "print(u2)\n",
        "\n",
        "# scalar multiplication of given vector\n",
        "u3 = c * v;\n",
        "print(u3)\n",
        "\n",
        "# componentwisely multiply vectors\n",
        "u4 = v * w;\n",
        "print(u4)\n",
        "\n",
        "# inner product (or dot product) of vectors\n",
        "u5 = v.dot(w);\n",
        "print(u5)"
      ],
      "metadata": {
        "id": "cTR35pt0UPrG"
      },
      "execution_count": null,
      "outputs": []
    },
    {
      "cell_type": "code",
      "source": [
        "# define two matrices of the same size\n",
        "A = np.array([[1, 2, 3],\n",
        "              [4, 5, 6]]);\n",
        "print(A)\n",
        "\n",
        "B = np.array([[2, 3, 4],\n",
        "              [3, 4, 5]]);\n",
        "print(B)\n",
        "\n",
        "# define a square matrix\n",
        "C = np.array([[2, 4, 5],\n",
        "              [4, 8, 10],\n",
        "              [7, 1, 8]]); # not invertible\n",
        "\n",
        "# extract diagonal vector of C and create a diagonal matrix\n",
        "d = np.diag(C); # vector of length 3\n",
        "D = np.diag(d); # invertible\n",
        "print(D)\n",
        "\n",
        "# define a scalar\n",
        "k = -2;\n",
        "\n",
        "# matrix addition\n",
        "E1 = A + B;\n",
        "print(E1)\n",
        "\n",
        "# scalar multiplication\n",
        "E2 = k * A;\n",
        "print(E2)\n",
        "\n",
        "# Hadamard product (componentwise multiplication)\n",
        "E3 = A * B;\n",
        "print(E3)\n",
        "\n",
        "# matrix-vector multiplication\n",
        "E4 = A.dot(d);\n",
        "print(E4)\n",
        "\n",
        "# matrix-matrix multiplication\n",
        "E5 = A.dot(B.T);\n",
        "print(E5)\n",
        "# or\n",
        "E6 = A @ B.T;\n",
        "print(E6)\n",
        "# the sizes matter\n",
        "try:\n",
        "    A.dot(B) # error will be raised on shapes of arrays not aligned\n",
        "except Exception as e:\n",
        "    print(e)  # print the error\n",
        "\n",
        "# Inverse of an invertible matrix\n",
        "D_inv = np.linalg.inv(D)\n",
        "print(D_inv)"
      ],
      "metadata": {
        "id": "HFif_MRIW4zY"
      },
      "execution_count": null,
      "outputs": []
    },
    {
      "cell_type": "markdown",
      "source": [
        "### **Example 1**\n",
        "\n",
        "Vectors addition can be visualized as the parallelogram rule as below. We use the Matplotlib for plotting on a 2D plane."
      ],
      "metadata": {
        "id": "MU2A1_z4cS3t"
      }
    },
    {
      "cell_type": "code",
      "source": [
        "import matplotlib.pyplot as plt\n",
        "\n",
        "o = np.array([0, 0]); # origin of the plane\n",
        "v = np.array([-1, 2]);\n",
        "w = np.array([3, 1]);\n",
        "\n",
        "# express vectors as arrows\n",
        "# using triples (starting point, endpoint, color)\n",
        "arrows = [(o, v, 'r'),\n",
        "          (o, w, 'g'),\n",
        "          (o, v + w, 'b'),\n",
        "          (v, w, 'g'),\n",
        "          (w, v, 'r')]\n",
        "\n",
        "# plot each arrow (triple) in the list of arrows using the function quiver\n",
        "for p0, p1, c in arrows:\n",
        "    plt.quiver(p0[0], p0[1], p1[0], p1[1], color=c, units='xy', scale=1)\n",
        "plt.axis('scaled')\n",
        "plt.xlim(-2, 4)\n",
        "plt.ylim(0, 4)\n",
        "plt.show()"
      ],
      "metadata": {
        "id": "T8WqLuLofFK4"
      },
      "execution_count": null,
      "outputs": []
    },
    {
      "cell_type": "markdown",
      "source": [
        "### **Exercise 1**\n",
        "\n",
        "An audio is a 1-d array of the amplitude of waveform over time. Here, we create two 1-second audios of note C and note G."
      ],
      "metadata": {
        "id": "vndVTgMci6pU"
      }
    },
    {
      "cell_type": "code",
      "source": [
        "fs = 20000.  # 20 kHz sampling rate\n",
        "duration = 1.  # second\n",
        "t = np.arange(0., duration, 1 / fs)  # time points\n",
        "\n",
        "# define a function Note which will also be used in Exercise 2\n",
        "def Note(frequency, time):\n",
        "    \"\"\"Function to create the waveform of a note\"\"\"\n",
        "    return np.sin(2 * np.pi * frequency * time)\n",
        "\n",
        "def PlotWave(t, wave, duration=0.01):\n",
        "    \"\"\"Function to plot the waveform\"\"\"\n",
        "    idx = t <= duration\n",
        "    plt.figure(figsize=(3.6, 0.6))\n",
        "    plt.plot(t[idx], wave[idx])\n",
        "    plt.axis('off')\n",
        "    plt.show()"
      ],
      "metadata": {
        "id": "eHqmlahbjqwl"
      },
      "execution_count": null,
      "outputs": []
    },
    {
      "cell_type": "code",
      "source": [
        "from IPython.display import Audio\n",
        "\n",
        "freq_C = 261.6  # middle C (Hz)\n",
        "freq_G = 391.995  # middle G (Hz)\n",
        "\n",
        "# waveforms\n",
        "note_C = Note(freq_C, t)\n",
        "note_G = Note(freq_G, t)\n",
        "\n",
        "# play sound\n",
        "print('Note C:')\n",
        "PlotWave(t, note_C, duration=0.016)\n",
        "display(Audio(note_C, rate=fs))\n",
        "\n",
        "print('Note G:')\n",
        "PlotWave(t, note_G, duration=0.016)\n",
        "display(Audio(note_G, rate=fs))"
      ],
      "metadata": {
        "id": "xinCYhZSuhbs"
      },
      "execution_count": null,
      "outputs": []
    },
    {
      "cell_type": "markdown",
      "source": [
        "#### **Problem 1**\n",
        "\n",
        "Create an array in the cell below for a chord composed by note C and G created above. And play the chord."
      ],
      "metadata": {
        "id": "2SEk8OoX1_9e"
      }
    },
    {
      "cell_type": "code",
      "source": [
        "### Solution ###\n",
        "# chord1 = ?\n",
        "\n",
        "### Solution ###\n",
        "\n",
        "# play sound\n",
        "print('Chord 1:')\n",
        "PlotWave(t, chord1, duration=0.016)\n",
        "display(Audio(chord1, rate=fs))"
      ],
      "metadata": {
        "id": "jpegMHbVxUQt"
      },
      "execution_count": null,
      "outputs": []
    },
    {
      "cell_type": "markdown",
      "source": [
        "#### **Problem 2**\n",
        "\n",
        "Create another chord in the cell below composed by note C with 2x amplitude and note with 0.6x the amplitude."
      ],
      "metadata": {
        "id": "2E96oWUa3iBH"
      }
    },
    {
      "cell_type": "code",
      "source": [
        "### Solution ###\n",
        "# chord2 = ?\n",
        "\n",
        "### Solution ###\n",
        "\n",
        "# play sound\n",
        "print('Chord 2:')\n",
        "PlotWave(t, chord2, duration=0.016)\n",
        "display(Audio(chord2, rate=fs))"
      ],
      "metadata": {
        "id": "CVYYvZ7p3gra"
      },
      "execution_count": null,
      "outputs": []
    },
    {
      "cell_type": "markdown",
      "source": [
        "### **Exercise 2**\n",
        "\n",
        "Now consider the following real-life situation. Every time you click a key on a telephone touch pad, a unique tone will be generated. Each key is a combination of two pure tones, with frequencies given in the following table. For instance, when pressing 5, the telephone will generate a tone of 770 Hz and a tone of 1336 Hz.\n",
        "\n",
        "$$\\begin{array}{ |c|c|c|c| }\n",
        " \\hline\n",
        " \\text{Frequencies} & 1209 \\text{ Hz} & 1336 \\text{ Hz} & 1477 \\text{ Hz} \\\\ \\hline\n",
        " 697 \\text{ Hz} & 1 & 2 & 3 \\\\ \\hline\n",
        " 770 \\text{ Hz} & 4 & 5 & 6 \\\\ \\hline\n",
        " 852 \\text{ Hz} & 7 & 8 & 9 \\\\ \\hline\n",
        " 941 \\text{ Hz} & * & 0 & \\# \\\\ \\hline\n",
        "\\end{array}$$\n",
        "\n",
        "For example, to get the tone for key '6':"
      ],
      "metadata": {
        "id": "7WjEbqjcZlbn"
      }
    },
    {
      "cell_type": "code",
      "source": [
        "freq_row = np.array([697, 770, 852, 941])\n",
        "freq_col = np.array([1209, 1336, 1477])\n",
        "\n",
        "# play tone of key '6' given row and column index (1, 2)\n",
        "tone_six = Note(freq_row[1], t) + Note(freq_col[2], t)\n",
        "print('Tone for 6:')\n",
        "PlotWave(t, tone_six)\n",
        "display(Audio(tone_six, rate=fs))"
      ],
      "metadata": {
        "id": "AYPbq4lthzB1"
      },
      "execution_count": null,
      "outputs": []
    },
    {
      "cell_type": "markdown",
      "source": [
        "#### **Set up the problem**\n",
        "\n"
      ],
      "metadata": {
        "id": "q5U_P9iAcfzt"
      }
    },
    {
      "cell_type": "code",
      "source": [
        "# create an array with the layout of the keys on the touch pad\n",
        "touch_pad = np.array([\n",
        "    [1, 2, 3],\n",
        "    [4, 5, 6],\n",
        "    [7, 8, 9],\n",
        "    ['*', 0, '#']\n",
        "]).astype(str)\n",
        "print(touch_pad)\n",
        "\n",
        "# create a dictionary that maps a key on the touch pad to its corresponding two tone frequencies\n",
        "dial_freq = {}\n",
        "for i, f_row in enumerate(freq_row):\n",
        "    for j, f_col in enumerate(freq_col):\n",
        "        key = touch_pad[i, j]\n",
        "        dial_freq[key] = [f_row, f_col]\n",
        "display(dial_freq)"
      ],
      "metadata": {
        "id": "czic5iwrgfHg"
      },
      "execution_count": null,
      "outputs": []
    },
    {
      "cell_type": "markdown",
      "source": [
        "#### **Problem**\n",
        "\n",
        "Generate a dictionary `dial_tone` that maps each of all the keys on the touch pad to the corresponding waveform of its tone in the cell below, such that the next cell plays the correct tone for every key."
      ],
      "metadata": {
        "id": "Y_MM8c1HpWhY"
      }
    },
    {
      "cell_type": "code",
      "source": [
        "### Solution ###\n",
        "# dial_tone = ?\n",
        "\n",
        "### Solution ###"
      ],
      "metadata": {
        "id": "5vw4Ax-Dk-cV"
      },
      "execution_count": null,
      "outputs": []
    },
    {
      "cell_type": "code",
      "source": [
        "# play all tones\n",
        "for key, tone in dial_tone.items():\n",
        "    print(f'Tone for {key}:')\n",
        "    PlotWave(t, tone)\n",
        "    display(Audio(tone, rate=fs))"
      ],
      "metadata": {
        "id": "PiQHcz9rOxvL"
      },
      "execution_count": null,
      "outputs": []
    },
    {
      "cell_type": "markdown",
      "source": [
        "## **Solve Linear Systems**\n",
        "\n",
        "A linear system can be intepreted as an augmented matrix $[A \\mid b]$ where $A$ is the coeffient matrix and $b$ is the augment column. To solve such linear system, a standard method is to apply Gaussian elimination to this augmented matrix to get an echelon form or the reduced row echelon form."
      ],
      "metadata": {
        "id": "hzMLjsEY7FY3"
      }
    },
    {
      "cell_type": "markdown",
      "source": [
        "### **Example 2**\n",
        "\n",
        "Find the reduced row echelon form of a given augmented matrix, and solve the linear system associated to it."
      ],
      "metadata": {
        "id": "FlocaAYOdBGx"
      }
    },
    {
      "cell_type": "code",
      "source": [
        "import sympy as sp\n",
        "\n",
        "# variables\n",
        "x1, x2, x3, x4 = sp.symbols('x1 x2 x3 x4')\n",
        "\n",
        "# augmented matrix\n",
        "A = np.array(\n",
        "    [[0, -3, -6, 4, 9],\n",
        "    [-1, -2, -1, 3, 1],\n",
        "    [-2, -3, 0, 3, -1],\n",
        "    [1, 4, 5, -9, -7]]\n",
        ")\n",
        "A = sp.Matrix(A)  # convert to sympy.Matrix\n",
        "\n",
        "# use method rref() to get reduced row echelon form and locate the pivit positions\n",
        "# it returns a tuple, the first is the reduced row echelon form, and the second is a tuple of indices of the pivot columns\n",
        "A_rref, pivots = A.rref()\n",
        "display(A_rref)\n",
        "display(pivots)\n",
        "\n",
        "# solve the linear system with augmented matrix A\n",
        "ans = sp.linsolve(A, [x1, x2, x3, x4])\n",
        "display(ans)"
      ],
      "metadata": {
        "id": "jABls89LdAl8"
      },
      "execution_count": null,
      "outputs": []
    },
    {
      "cell_type": "markdown",
      "source": [
        "### **Example 3**\n",
        "\n",
        "We can also check linear (in)dependence by counting the number of pivots. In other words, Gaussian elimination provides a way to verify linear independence. To be precise, let $\\{v_1,\\cdots,v_n\\}$ be a collection of vectors in $\\mathbb{R}^m$. Consider the $m \\times n$ matrix $V$ with columns given by $v_1,\\cdots,v_n$, i.e.\n",
        "\n",
        "$$V = \\begin{pmatrix}\n",
        "v_1 & v_2 & \\cdots & v_n\n",
        "\\end{pmatrix}.$$\n",
        "\n",
        "By finding the reduced row echelon form of $V$, if each of the columns of $V$ is pivot, then $\\{v_1,\\cdots,v_n\\}$ is linearly independent; otherwise $\\{v_1,\\cdots,v_n\\}$ is linearly dependent."
      ],
      "metadata": {
        "id": "Tr5si0y9dgpW"
      }
    },
    {
      "cell_type": "code",
      "source": [
        "# continue above example\n",
        "m, n = A.shape\n",
        "linearly_independent = len(pivots) == n\n",
        "print(linearly_independent) # False, columns of A not linearly independent"
      ],
      "metadata": {
        "id": "GHmC3KIKh4uW"
      },
      "execution_count": null,
      "outputs": []
    },
    {
      "cell_type": "markdown",
      "source": [
        "### **Exercise 3**\n",
        "\n",
        "Do the following two problems.\n"
      ],
      "metadata": {
        "id": "-EEZnJqjnIzt"
      }
    },
    {
      "cell_type": "markdown",
      "source": [
        "#### **Problem 1**\n",
        "\n",
        "Write a function with input a matrix $A$, return \"True\" if columns of $A$ are linearly independent, \"False\" if columns of $A$ are linearly dependent."
      ],
      "metadata": {
        "id": "gAm26uXApxLb"
      }
    },
    {
      "cell_type": "code",
      "source": [
        "### Solution ###\n",
        "# def independent(A):\n",
        "\n",
        "### Solution ###"
      ],
      "metadata": {
        "id": "p_WAu6Arpx-v"
      },
      "execution_count": null,
      "outputs": []
    },
    {
      "cell_type": "markdown",
      "source": [
        "#### **Problem 2**\n",
        "\n",
        "Follow the setup below to estimate the probability of $5$ randomly chosen vectors with integer entries from -5 to 5 in $\\mathbb{R}^{5}$ being **linearly dependent**, by repeating the procedure 10000 times. Make sure to use the function you wrote from Problem 1."
      ],
      "metadata": {
        "id": "wtxZtaoRpyj1"
      }
    },
    {
      "cell_type": "code",
      "source": [
        "# get five such random column vectors in R^5\n",
        "np.random.seed(3264)\n",
        "v = np.random.randint(-5, 6, size=(5, 5))\n",
        "print(v)"
      ],
      "metadata": {
        "id": "XSgXB5hRrGUM"
      },
      "execution_count": null,
      "outputs": []
    },
    {
      "cell_type": "code",
      "source": [
        "### Solution ###\n",
        "np.random.seed(3264)\n",
        "\n",
        "### Solution ###"
      ],
      "metadata": {
        "id": "gQttTYkVhUuF"
      },
      "execution_count": null,
      "outputs": []
    },
    {
      "cell_type": "markdown",
      "source": [
        "## **Linear Transformations**\n",
        "\n",
        "A map $f \\colon \\mathbb{R}^n \\rightarrow \\mathbb{R}^m$ is called a linear transformation if for any vectors $v, w \\in \\mathbb{R}^n$ and any scalar $\\lambda \\in \\mathbb{R}$, it satisfies the following linearity conditions:\n",
        "\n",
        "*  $f(v + w) = f(v) + f(w)$;\n",
        "*  $f(\\lambda v) = \\lambda f(v)$.\n",
        "\n",
        "An important fact is that each of such linear transformations can be represented by an $m \\times n$ matrix $M$ such that the map is given by\n",
        "\n",
        "$$f(v) = Mv,\\quad \\forall v \\in \\mathbb{R}^n.$$\n",
        "\n",
        "We have seen several commonly used linear transformations $\\mathbb{R}^2 \\rightarrow \\mathbb{R}^2$ in class. For instance, rotations, shear transformations, and reflections."
      ],
      "metadata": {
        "id": "y8geHEDb7QQn"
      }
    },
    {
      "cell_type": "markdown",
      "source": [
        "### **Example 4**\n",
        "\n",
        "We start with the unit square in $\\mathbb{R}^2$, with vertices $(0,0)$, $(1,0)$, $(1,1)$ and $(0,1)$. Plot the squares after the following linear transformations.\n",
        "\n",
        "*   Shear transform along the positive $x$ axis by a factor of $2$, then\n",
        "*   Rotate clockwisely by an angle of $\\frac{\\pi}{4}$."
      ],
      "metadata": {
        "id": "dMS1jJtkKL7E"
      }
    },
    {
      "cell_type": "code",
      "source": [
        "import matplotlib.pyplot as plt\n",
        "import matplotlib.patches as patches\n",
        "from numpy import pi, sin, cos\n",
        "\n",
        "fig = plt.figure()\n",
        "ax = fig.add_subplot(111, aspect='equal')\n",
        "\n",
        "# shear transformation\n",
        "S = np.array([[1, 2],\n",
        "              [0, 1]])\n",
        "\n",
        "# Rotation\n",
        "t = -pi / 4\n",
        "R = np.array([[cos(t), -sin(t)],\n",
        "              [sin(t), cos(t)]])\n",
        "\n",
        "# vertices of unit square\n",
        "Q = [[0, 0],\n",
        "     [1, 0],\n",
        "     [1, 1],\n",
        "     [0, 1]]\n",
        "\n",
        "# after shear transfrom\n",
        "sQ = [S.dot(q) for q in Q]\n",
        "\n",
        "# then rotation\n",
        "rsQ = [R.dot(q) for q in sQ]\n",
        "\n",
        "ax.add_patch(patches.Polygon(Q, color='r', fill=True))\n",
        "ax.add_patch(patches.Polygon(sQ, color='b', fill=True))\n",
        "ax.add_patch(patches.Polygon(rsQ, color='g', fill=True))\n",
        "plt.axis('scaled')\n",
        "plt.show()"
      ],
      "metadata": {
        "id": "U5gO2HJsTAd9"
      },
      "execution_count": null,
      "outputs": []
    },
    {
      "cell_type": "markdown",
      "source": [
        "### **Exercise 3**\n",
        "\n",
        "Given an image file. In the setup we do the followings:\n",
        "\n",
        "*  Make it black and white;\n",
        "*  Convert the grayscale image to a matrix by fixing graylevel for each pixel;\n",
        "*  Visualize pixels stored in the matrix on the Euclidean plane.\n",
        "\n"
      ],
      "metadata": {
        "id": "TidQDNWO7lMT"
      }
    },
    {
      "cell_type": "markdown",
      "source": [
        "#### **Set up the problem**"
      ],
      "metadata": {
        "id": "Y1ZOYvdgFELq"
      }
    },
    {
      "cell_type": "code",
      "source": [
        "! git clone https://github.com/zhengninghu/m313LinearAlgebra_Python.git\n",
        "\n",
        "import os\n",
        "image_file = os.path.join('m313LinearAlgebra_Python', 'Assignment_1', 'otters.jpg')"
      ],
      "metadata": {
        "id": "YzK19lXJwCSI"
      },
      "execution_count": null,
      "outputs": []
    },
    {
      "cell_type": "code",
      "source": [
        "import numpy as np\n",
        "import PIL.Image as Image\n",
        "import matplotlib.pyplot as plt\n",
        "\n",
        "# load a picture to a matrix in grayscale\n",
        "img = Image.open(image_file).convert('L')\n",
        "A = np.array(img)\n",
        "B = A < 100  # set up the threshold of the graylevel\n",
        "m, n = B.shape\n",
        "print(m == n) # squared\n",
        "\n",
        "# scan the Boolean matrix B to create an array of pixels [i, j] with B[j, i] = True\n",
        "P = np.array([[i, j] for j in range(m) for i in range(n) if B[j, i]])\n",
        "\n",
        "# scale the picture to square and place it in the Euclidean plane with the center being the origin\n",
        "# then, get the x, y coordinates of the pixels\n",
        "x = -1 + 2 * P[:, 0] / (n - 1)\n",
        "y = 1 - 2 * P[:, 1] / (m - 1)\n",
        "sP = np.array([x, y]).T\n",
        "\n",
        "# scatter plot the data with specified dot size 0.005\n",
        "plt.scatter(x, y, s=0.005)\n",
        "plt.axis('scaled')\n",
        "plt.xlim(-1, 1)\n",
        "plt.ylim(-1, 1)\n",
        "plt.show()"
      ],
      "metadata": {
        "id": "s18n3GSu8fZz"
      },
      "execution_count": null,
      "outputs": []
    },
    {
      "cell_type": "markdown",
      "source": [
        "#### **Problem 4**\n",
        "\n",
        "Rotate the pixels stored in `sP` counterclockwisely by an angle $\\frac{\\pi}{3}$ by defining the rotation matrix first. Then make a new array of points `rsP` after rotation, and plot the points on the coodinate plane."
      ],
      "metadata": {
        "id": "2i3DwBkTFLQA"
      }
    },
    {
      "cell_type": "code",
      "source": [
        "import matplotlib.pyplot as plt\n",
        "import matplotlib.patches as patches\n",
        "from numpy import pi, sin, cos\n",
        "\n",
        "### Solution ###\n",
        "# rsP?\n",
        "\n",
        "### Solution ###\n",
        "\n",
        "rx, ry = rsP.T\n",
        "plt.scatter(rx, ry, s=0.005)\n",
        "plt.axis('scaled')\n",
        "plt.show()"
      ],
      "metadata": {
        "id": "JB46WTHnW7bH"
      },
      "execution_count": null,
      "outputs": []
    }
  ]
}